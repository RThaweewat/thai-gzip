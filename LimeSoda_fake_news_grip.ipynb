{
  "cells": [
    {
      "cell_type": "markdown",
      "source": [
        "# Fake News with G-ZIP"
      ],
      "metadata": {
        "collapsed": false,
        "id": "93e5e0f151588b76"
      },
      "id": "93e5e0f151588b76"
    },
    {
      "cell_type": "code",
      "execution_count": 2,
      "id": "6122b98c-af6f-424c-a498-cee4cd008477",
      "metadata": {
        "ExecuteTime": {
          "end_time": "2023-07-28T16:32:58.679166200Z",
          "start_time": "2023-07-28T16:32:58.552460400Z"
        },
        "colab": {
          "base_uri": "https://localhost:8080/"
        },
        "id": "6122b98c-af6f-424c-a498-cee4cd008477",
        "outputId": "88329dd2-059e-4996-ab7f-c2115f383ae5"
      },
      "outputs": [
        {
          "output_type": "stream",
          "name": "stderr",
          "text": [
            "[nltk_data] Downloading package punkt to /root/nltk_data...\n",
            "[nltk_data]   Unzipping tokenizers/punkt.zip.\n"
          ]
        }
      ],
      "source": [
        "# Data libraries\n",
        "import numpy as np\n",
        "import pandas as pd\n",
        "\n",
        "# Text preprocessing libraries\n",
        "import re\n",
        "from nltk.tokenize import word_tokenize\n",
        "import nltk\n",
        "nltk.download('punkt')\n",
        "\n",
        "# GZIP libraries\n",
        "import gzip\n",
        "from tqdm import tqdm\n",
        "from collections import Counter\n",
        "\n",
        "# Visualization libraries\n",
        "from sklearn.metrics import confusion_matrix\n",
        "import seaborn as sns\n",
        "import matplotlib.pyplot as plt"
      ]
    },
    {
      "cell_type": "markdown",
      "source": [
        "## 1. Data Preparation"
      ],
      "metadata": {
        "collapsed": false,
        "id": "d3704e07cfbd9c5e"
      },
      "id": "d3704e07cfbd9c5e"
    },
    {
      "cell_type": "markdown",
      "source": [
        "## 1.1 Load and process dataset"
      ],
      "metadata": {
        "collapsed": false,
        "id": "8903f1f27c866584"
      },
      "id": "8903f1f27c866584"
    },
    {
      "cell_type": "code",
      "execution_count": 3,
      "outputs": [],
      "source": [
        "def process_data(path):\n",
        "    data = pd.read_json(train_json, lines=True)\n",
        "\n",
        "    # de tokenize\n",
        "    data[\"text\"] = data[\"Text\"].apply(lambda x: \"\".join(x))\n",
        "    data.drop(\"Text\", axis=1, inplace=True)\n",
        "    data.rename(columns={\"Document Tag\": \"intent\"}, inplace=True)\n",
        "    return data"
      ],
      "metadata": {
        "ExecuteTime": {
          "end_time": "2023-07-29T08:10:44.560305100Z",
          "start_time": "2023-07-29T08:10:44.541327200Z"
        },
        "id": "79ff5ba0f8f7ae52"
      },
      "id": "79ff5ba0f8f7ae52"
    },
    {
      "cell_type": "code",
      "execution_count": 4,
      "outputs": [],
      "source": [
        "train_json = \"https://raw.githubusercontent.com/byinth/LimeSoda/main/dataset_train_wo_tokentags_v1/train_v1.jsonl\"\n",
        "test_json = \"https://raw.githubusercontent.com/byinth/LimeSoda/main/dataset_train_wo_tokentags_v1/test_v1.jsonl\"\n",
        "\n",
        "df_train = process_data(train_json)\n",
        "df_test = process_data(test_json)"
      ],
      "metadata": {
        "ExecuteTime": {
          "end_time": "2023-07-29T08:10:53.104188100Z",
          "start_time": "2023-07-29T08:10:45.266030100Z"
        },
        "id": "3a891a746b52ab70"
      },
      "id": "3a891a746b52ab70"
    },
    {
      "cell_type": "markdown",
      "id": "502672d8-2a4c-4504-ac47-684962fa7bc2",
      "metadata": {
        "id": "502672d8-2a4c-4504-ac47-684962fa7bc2"
      },
      "source": [
        "### 1.2 Create a dictionary of labels"
      ]
    },
    {
      "cell_type": "code",
      "execution_count": 5,
      "id": "fe2f6e18-b3d5-4333-93aa-782a287d0350",
      "metadata": {
        "ExecuteTime": {
          "end_time": "2023-07-29T08:10:53.119995100Z",
          "start_time": "2023-07-29T08:10:53.105188600Z"
        },
        "colab": {
          "base_uri": "https://localhost:8080/"
        },
        "id": "fe2f6e18-b3d5-4333-93aa-782a287d0350",
        "outputId": "42698f04-0a67-4ee8-9b44-0b55498c7d66"
      },
      "outputs": [
        {
          "output_type": "execute_result",
          "data": {
            "text/plain": [
              "{'Fact News': 0, 'Fake News': 1}"
            ]
          },
          "metadata": {},
          "execution_count": 5
        }
      ],
      "source": [
        "uniq = list(set(df_train[\"intent\"].values))\n",
        "labels = {j:i for i,j in zip(range(len(uniq)), uniq)}\n",
        "labels"
      ]
    },
    {
      "cell_type": "code",
      "execution_count": 6,
      "id": "5b9bf7a6-cc26-4d9f-a2c8-ea1d736b7997",
      "metadata": {
        "ExecuteTime": {
          "end_time": "2023-07-29T08:10:54.215361600Z",
          "start_time": "2023-07-29T08:10:54.194504500Z"
        },
        "id": "5b9bf7a6-cc26-4d9f-a2c8-ea1d736b7997"
      },
      "outputs": [],
      "source": [
        "df_train[\"label\"] = df_train[\"intent\"].apply(lambda x: labels[x])\n",
        "df_test[\"label\"] = df_test[\"intent\"].apply(lambda x: labels[x])"
      ]
    },
    {
      "cell_type": "markdown",
      "id": "5978af4b-20e2-4031-8c7f-3c2bbd6eb906",
      "metadata": {
        "id": "5978af4b-20e2-4031-8c7f-3c2bbd6eb906"
      },
      "source": [
        "## G-ZIP Original Paper Implementation"
      ]
    },
    {
      "cell_type": "code",
      "execution_count": 8,
      "id": "ce436c63-2eea-46a2-95ca-cfaab0acf348",
      "metadata": {
        "is_executing": true,
        "ExecuteTime": {
          "start_time": "2023-07-29T08:10:59.220181500Z"
        },
        "colab": {
          "base_uri": "https://localhost:8080/"
        },
        "id": "ce436c63-2eea-46a2-95ca-cfaab0acf348",
        "outputId": "52f6d1ff-c273-4de1-9d7c-1508ce47b927"
      },
      "outputs": [
        {
          "output_type": "stream",
          "name": "stderr",
          "text": [
            "100%|██████████| 2698/2698 [2:55:39<00:00,  3.91s/it]"
          ]
        },
        {
          "output_type": "stream",
          "name": "stdout",
          "text": [
            "Accuracy: 0.9321719792438844\n"
          ]
        },
        {
          "output_type": "stream",
          "name": "stderr",
          "text": [
            "\n"
          ]
        }
      ],
      "source": [
        "k = 2\n",
        "predicted_classes = []\n",
        "\n",
        "for row_test in tqdm(df_test.iterrows(), total=df_test.shape[0]):\n",
        "    test_text = row_test[1][\"text\"]\n",
        "    test_label = row_test[1][\"label\"]\n",
        "    c_test_text = len(gzip.compress(test_text.encode()))\n",
        "    distance_from_test_instance = []\n",
        "\n",
        "    for row_train in df_train.iterrows():\n",
        "        train_text = row_train[1][\"text\"]\n",
        "        train_label = row_train[1][\"label\"]\n",
        "        c_train_text = len(gzip.compress(train_text.encode()))\n",
        "        train_plus_test = \" \".join([test_text, train_text])\n",
        "        c_train_plus_test = len(gzip.compress(train_plus_test.encode()))\n",
        "\n",
        "        ncd = ((c_train_plus_test - min(c_train_text, c_test_text))\n",
        "                / max(c_test_text, c_train_text))\n",
        "        distance_from_test_instance.append(ncd)\n",
        "\n",
        "    sorted_idx = np.argsort(np.array(distance_from_test_instance))\n",
        "    top_k_class = df_train.iloc[sorted_idx[:k]][\"label\"].values\n",
        "    predicted_class = np.argmax(np.bincount(top_k_class))\n",
        "    predicted_classes.append(predicted_class)\n",
        "\n",
        "print(\"Accuracy:\", np.mean(np.array(predicted_classes) == df_test[\"label\"].values))"
      ]
    },
    {
      "cell_type": "code",
      "execution_count": 9,
      "outputs": [
        {
          "output_type": "display_data",
          "data": {
            "text/plain": [
              "<Figure size 1200x1000 with 2 Axes>"
            ],
            "image/png": "[encoded data removed]"
          },
          "metadata": {}
        }
      ],
      "source": [
        "cm = confusion_matrix(df_test[\"label\"].values, np.array(predicted_classes))\n",
        "# plot with seaborn\n",
        "plt.figure(figsize=(12, 10))\n",
        "sns.heatmap(cm, annot=True, fmt=\"d\", xticklabels=uniq, yticklabels=uniq)\n",
        "plt.ylabel(\"Actual\")\n",
        "plt.xlabel(\"Predicted\")\n",
        "plt.show()"
      ],
      "metadata": {
        "is_executing": true,
        "colab": {
          "base_uri": "https://localhost:8080/",
          "height": 850
        },
        "id": "2a8acbc97cfe1273",
        "outputId": "8d09a75b-a4b5-43cd-bf45-1666b3b527f7"
      },
      "id": "2a8acbc97cfe1273"
    },
    {
      "cell_type": "markdown",
      "id": "98eecfd5-0eaf-4274-b48c-7f9c27b0d0f4",
      "metadata": {
        "id": "98eecfd5-0eaf-4274-b48c-7f9c27b0d0f4"
      },
      "source": [
        "## G-ZIP With Tie-Breaking Fix"
      ]
    },
    {
      "cell_type": "code",
      "execution_count": 10,
      "id": "fa2bee8b-0ac4-42f4-95d2-5abd1ce6cebe",
      "metadata": {
        "is_executing": true,
        "colab": {
          "base_uri": "https://localhost:8080/"
        },
        "id": "fa2bee8b-0ac4-42f4-95d2-5abd1ce6cebe",
        "outputId": "384d4651-ccdf-445b-88d3-3ff6231a87b5"
      },
      "outputs": [
        {
          "output_type": "stream",
          "name": "stderr",
          "text": [
            "100%|██████████| 2698/2698 [2:55:49<00:00,  3.91s/it]"
          ]
        },
        {
          "output_type": "stream",
          "name": "stdout",
          "text": [
            "Accuracy: 0.9992587101556709\n"
          ]
        },
        {
          "output_type": "stream",
          "name": "stderr",
          "text": [
            "\n"
          ]
        }
      ],
      "source": [
        "k = 2\n",
        "predicted_classes = []\n",
        "\n",
        "for row_test in tqdm(df_test.iterrows(), total=df_test.shape[0]):\n",
        "    test_text = row_test[1][\"text\"]\n",
        "    test_label = row_test[1][\"label\"]\n",
        "    c_test_text = len(gzip.compress(test_text.encode()))\n",
        "    distance_from_test_instance = []\n",
        "\n",
        "    for row_train in df_train.iterrows():\n",
        "        train_text = row_train[1][\"text\"]\n",
        "        train_label = row_train[1][\"label\"]\n",
        "        c_train_text = len(gzip.compress(train_text.encode()))\n",
        "\n",
        "        train_plus_test = \" \".join([test_text, train_text])\n",
        "        c_train_plus_test = len(gzip.compress(train_plus_test.encode()))\n",
        "\n",
        "        ncd = ( (c_train_plus_test - min(c_train_text, c_test_text))\n",
        "                / max(c_test_text, c_train_text) )\n",
        "        distance_from_test_instance.append(ncd)\n",
        "\n",
        "    sorted_idx = np.argsort(np.array(distance_from_test_instance))\n",
        "    top_k_class = np.array(df_train[\"label\"])[sorted_idx[:k]]\n",
        "    predicted_class = Counter(top_k_class).most_common()[0][0]\n",
        "    predicted_classes.append(predicted_class)\n",
        "\n",
        "print(\"Accuracy:\", np.mean(np.array(predicted_classes) == df_test[\"label\"].values))"
      ]
    },
    {
      "cell_type": "code",
      "execution_count": 11,
      "outputs": [
        {
          "output_type": "display_data",
          "data": {
            "text/plain": [
              "<Figure size 1200x1000 with 2 Axes>"
            ],
            "image/png": "[encoded data removed]"
          },
          "metadata": {}
        }
      ],
      "source": [
        "cm = confusion_matrix(df_test[\"label\"].values, np.array(predicted_classes))\n",
        "plt.figure(figsize=(12, 10))\n",
        "sns.heatmap(cm, annot=True, fmt=\"d\", xticklabels=uniq, yticklabels=uniq)\n",
        "plt.ylabel(\"Actual\")\n",
        "plt.xlabel(\"Predicted\")\n",
        "plt.show()"
      ],
      "metadata": {
        "is_executing": true,
        "colab": {
          "base_uri": "https://localhost:8080/",
          "height": 850
        },
        "id": "fea6b46d371aed15",
        "outputId": "f44f99b8-fe34-4174-e375-8be3b5aed49a"
      },
      "id": "fea6b46d371aed15"
    },
    {
      "cell_type": "code",
      "execution_count": 15,
      "outputs": [
        {
          "output_type": "execute_result",
          "data": {
            "text/plain": [
              "        intent                                               text  label  \\\n",
              "332  Fake News  กินร้อนช้อนกลางล้างมือ!!สพฐ.กำชับโรงเรียนดูแลเ...      1   \n",
              "537  Fact News  สุดยอดแพทย์ไทยใช้ยาต้านไวรัสไข้หวัดใหญ่และยาต้...      0   \n",
              "\n",
              "     predicted  \n",
              "332  Fact News  \n",
              "537  Fake News  "
            ],
            "text/html": [
              "\n",
              "\n",
              "  <div id=\"df-be6c92e5-bec8-4a43-b667-472bf44d014f\">\n",
              "    <div class=\"colab-df-container\">\n",
              "      <div>\n",
              "<style scoped>\n",
              "    .dataframe tbody tr th:only-of-type {\n",
              "        vertical-align: middle;\n",
              "    }\n",
              "\n",
              "    .dataframe tbody tr th {\n",
              "        vertical-align: top;\n",
              "    }\n",
              "\n",
              "    .dataframe thead th {\n",
              "        text-align: right;\n",
              "    }\n",
              "</style>\n",
              "<table border=\"1\" class=\"dataframe\">\n",
              "  <thead>\n",
              "    <tr style=\"text-align: right;\">\n",
              "      <th></th>\n",
              "      <th>intent</th>\n",
              "      <th>text</th>\n",
              "      <th>label</th>\n",
              "      <th>predicted</th>\n",
              "    </tr>\n",
              "  </thead>\n",
              "  <tbody>\n",
              "    <tr>\n",
              "      <th>332</th>\n",
              "      <td>Fake News</td>\n",
              "      <td>กินร้อนช้อนกลางล้างมือ!!สพฐ.กำชับโรงเรียนดูแลเ...</td>\n",
              "      <td>1</td>\n",
              "      <td>Fact News</td>\n",
              "    </tr>\n",
              "    <tr>\n",
              "      <th>537</th>\n",
              "      <td>Fact News</td>\n",
              "      <td>สุดยอดแพทย์ไทยใช้ยาต้านไวรัสไข้หวัดใหญ่และยาต้...</td>\n",
              "      <td>0</td>\n",
              "      <td>Fake News</td>\n",
              "    </tr>\n",
              "  </tbody>\n",
              "</table>\n",
              "</div>\n",
              "      <button class=\"colab-df-convert\" onclick=\"convertToInteractive('df-be6c92e5-bec8-4a43-b667-472bf44d014f')\"\n",
              "              title=\"Convert this dataframe to an interactive table.\"\n",
              "              style=\"display:none;\">\n",
              "\n",
              "  <svg xmlns=\"http://www.w3.org/2000/svg\" height=\"24px\"viewBox=\"0 0 24 24\"\n",
              "       width=\"24px\">\n",
              "    <path d=\"M0 0h24v24H0V0z\" fill=\"none\"/>\n",
              "    <path d=\"M18.56 5.44l.94 2.06.94-2.06 2.06-.94-2.06-.94-.94-2.06-.94 2.06-2.06.94zm-11 1L8.5 8.5l.94-2.06 2.06-.94-2.06-.94L8.5 2.5l-.94 2.06-2.06.94zm10 10l.94 2.06.94-2.06 2.06-.94-2.06-.94-.94-2.06-.94 2.06-2.06.94z\"/><path d=\"M17.41 7.96l-1.37-1.37c-.4-.4-.92-.59-1.43-.59-.52 0-1.04.2-1.43.59L10.3 9.45l-7.72 7.72c-.78.78-.78 2.05 0 2.83L4 21.41c.39.39.9.59 1.41.59.51 0 1.02-.2 1.41-.59l7.78-7.78 2.81-2.81c.8-.78.8-2.07 0-2.86zM5.41 20L4 18.59l7.72-7.72 1.47 1.35L5.41 20z\"/>\n",
              "  </svg>\n",
              "      </button>\n",
              "\n",
              "\n",
              "\n",
              "    <div id=\"df-2530f8eb-e718-401e-8282-0ee3a45ae436\">\n",
              "      <button class=\"colab-df-quickchart\" onclick=\"quickchart('df-2530f8eb-e718-401e-8282-0ee3a45ae436')\"\n",
              "              title=\"Suggest charts.\"\n",
              "              style=\"display:none;\">\n",
              "\n",
              "<svg xmlns=\"http://www.w3.org/2000/svg\" height=\"24px\"viewBox=\"0 0 24 24\"\n",
              "     width=\"24px\">\n",
              "    <g>\n",
              "        <path d=\"M19 3H5c-1.1 0-2 .9-2 2v14c0 1.1.9 2 2 2h14c1.1 0 2-.9 2-2V5c0-1.1-.9-2-2-2zM9 17H7v-7h2v7zm4 0h-2V7h2v10zm4 0h-2v-4h2v4z\"/>\n",
              "    </g>\n",
              "</svg>\n",
              "      </button>\n",
              "    </div>\n",
              "\n",
              "<style>\n",
              "  .colab-df-quickchart {\n",
              "    background-color: #E8F0FE;\n",
              "    border: none;\n",
              "    border-radius: 50%;\n",
              "    cursor: pointer;\n",
              "    display: none;\n",
              "    fill: #1967D2;\n",
              "    height: 32px;\n",
              "    padding: 0 0 0 0;\n",
              "    width: 32px;\n",
              "  }\n",
              "\n",
              "  .colab-df-quickchart:hover {\n",
              "    background-color: #E2EBFA;\n",
              "    box-shadow: 0px 1px 2px rgba(60, 64, 67, 0.3), 0px 1px 3px 1px rgba(60, 64, 67, 0.15);\n",
              "    fill: #174EA6;\n",
              "  }\n",
              "\n",
              "  [theme=dark] .colab-df-quickchart {\n",
              "    background-color: #3B4455;\n",
              "    fill: #D2E3FC;\n",
              "  }\n",
              "\n",
              "  [theme=dark] .colab-df-quickchart:hover {\n",
              "    background-color: #434B5C;\n",
              "    box-shadow: 0px 1px 3px 1px rgba(0, 0, 0, 0.15);\n",
              "    filter: drop-shadow(0px 1px 2px rgba(0, 0, 0, 0.3));\n",
              "    fill: #FFFFFF;\n",
              "  }\n",
              "</style>\n",
              "\n",
              "    <script>\n",
              "      async function quickchart(key) {\n",
              "        const containerElement = document.querySelector('#' + key);\n",
              "        const charts = await google.colab.kernel.invokeFunction(\n",
              "            'suggestCharts', [key], {});\n",
              "      }\n",
              "    </script>\n",
              "\n",
              "      <script>\n",
              "\n",
              "function displayQuickchartButton(domScope) {\n",
              "  let quickchartButtonEl =\n",
              "    domScope.querySelector('#df-2530f8eb-e718-401e-8282-0ee3a45ae436 button.colab-df-quickchart');\n",
              "  quickchartButtonEl.style.display =\n",
              "    google.colab.kernel.accessAllowed ? 'block' : 'none';\n",
              "}\n",
              "\n",
              "        displayQuickchartButton(document);\n",
              "      </script>\n",
              "      <style>\n",
              "    .colab-df-container {\n",
              "      display:flex;\n",
              "      flex-wrap:wrap;\n",
              "      gap: 12px;\n",
              "    }\n",
              "\n",
              "    .colab-df-convert {\n",
              "      background-color: #E8F0FE;\n",
              "      border: none;\n",
              "      border-radius: 50%;\n",
              "      cursor: pointer;\n",
              "      display: none;\n",
              "      fill: #1967D2;\n",
              "      height: 32px;\n",
              "      padding: 0 0 0 0;\n",
              "      width: 32px;\n",
              "    }\n",
              "\n",
              "    .colab-df-convert:hover {\n",
              "      background-color: #E2EBFA;\n",
              "      box-shadow: 0px 1px 2px rgba(60, 64, 67, 0.3), 0px 1px 3px 1px rgba(60, 64, 67, 0.15);\n",
              "      fill: #174EA6;\n",
              "    }\n",
              "\n",
              "    [theme=dark] .colab-df-convert {\n",
              "      background-color: #3B4455;\n",
              "      fill: #D2E3FC;\n",
              "    }\n",
              "\n",
              "    [theme=dark] .colab-df-convert:hover {\n",
              "      background-color: #434B5C;\n",
              "      box-shadow: 0px 1px 3px 1px rgba(0, 0, 0, 0.15);\n",
              "      filter: drop-shadow(0px 1px 2px rgba(0, 0, 0, 0.3));\n",
              "      fill: #FFFFFF;\n",
              "    }\n",
              "  </style>\n",
              "\n",
              "      <script>\n",
              "        const buttonEl =\n",
              "          document.querySelector('#df-be6c92e5-bec8-4a43-b667-472bf44d014f button.colab-df-convert');\n",
              "        buttonEl.style.display =\n",
              "          google.colab.kernel.accessAllowed ? 'block' : 'none';\n",
              "\n",
              "        async function convertToInteractive(key) {\n",
              "          const element = document.querySelector('#df-be6c92e5-bec8-4a43-b667-472bf44d014f');\n",
              "          const dataTable =\n",
              "            await google.colab.kernel.invokeFunction('convertToInteractive',\n",
              "                                                     [key], {});\n",
              "          if (!dataTable) return;\n",
              "\n",
              "          const docLinkHtml = 'Like what you see? Visit the ' +\n",
              "            '<a target=\"_blank\" href=https://colab.research.google.com/notebooks/data_table.ipynb>data table notebook</a>'\n",
              "            + ' to learn more about interactive tables.';\n",
              "          element.innerHTML = '';\n",
              "          dataTable['output_type'] = 'display_data';\n",
              "          await google.colab.output.renderOutput(dataTable, element);\n",
              "          const docLink = document.createElement('div');\n",
              "          docLink.innerHTML = docLinkHtml;\n",
              "          element.appendChild(docLink);\n",
              "        }\n",
              "      </script>\n",
              "    </div>\n",
              "  </div>\n"
            ]
          },
          "metadata": {},
          "execution_count": 15
        }
      ],
      "source": [
        "# give me sample of unmatched predictions\n",
        "df_test[\"predicted\"] = predicted_classes\n",
        "df_test[\"predicted\"] = df_test[\"predicted\"].apply(lambda x: uniq[x])\n",
        "df_test[df_test[\"intent\"] != df_test[\"predicted\"]]"
      ],
      "metadata": {
        "is_executing": true,
        "colab": {
          "base_uri": "https://localhost:8080/",
          "height": 112
        },
        "id": "436e11246bb2ba57",
        "outputId": "da3a462f-8187-45d5-e71a-79768f459aa9"
      },
      "id": "436e11246bb2ba57"
    }
  ],
  "metadata": {
    "kernelspec": {
      "display_name": "Python 3",
      "name": "python3"
    },
    "language_info": {
      "codemirror_mode": {
        "name": "ipython",
        "version": 3
      },
      "file_extension": ".py",
      "mimetype": "text/x-python",
      "name": "python",
      "nbconvert_exporter": "python",
      "pygments_lexer": "ipython3",
      "version": "3.10.6"
    },
    "colab": {
      "provenance": [],
      "machine_shape": "hm"
    }
  },
  "nbformat": 4,
  "nbformat_minor": 5
}