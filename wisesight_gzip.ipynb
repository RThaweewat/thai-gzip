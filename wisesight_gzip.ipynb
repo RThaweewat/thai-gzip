{
 "cells": [
  {
   "cell_type": "markdown",
   "source": [
    "# Wisesight Sentiment with G-ZIP"
   ],
   "metadata": {
    "collapsed": false
   },
   "id": "93e5e0f151588b76"
  },
  {
   "cell_type": "code",
   "execution_count": 24,
   "id": "6122b98c-af6f-424c-a498-cee4cd008477",
   "metadata": {
    "ExecuteTime": {
     "end_time": "2023-07-28T16:32:58.679166200Z",
     "start_time": "2023-07-28T16:32:58.552460400Z"
    }
   },
   "outputs": [
    {
     "name": "stderr",
     "output_type": "stream",
     "text": [
      "[nltk_data] Downloading package punkt to\n",
      "[nltk_data]     C:\\Users\\Thaweewat\\AppData\\Roaming\\nltk_data...\n",
      "[nltk_data]   Package punkt is already up-to-date!\n"
     ]
    }
   ],
   "source": [
    "# Data libraries\n",
    "import numpy as np\n",
    "import pandas as pd\n",
    "\n",
    "# Text preprocessing libraries\n",
    "import re\n",
    "from nltk.tokenize import word_tokenize\n",
    "import emoji\n",
    "import nltk\n",
    "nltk.download('punkt')\n",
    "\n",
    "# GZIP libraries\n",
    "import gzip\n",
    "from tqdm import tqdm\n",
    "from collections import Counter\n",
    "\n",
    "# Visualization libraries\n",
    "from sklearn.metrics import confusion_matrix\n",
    "import seaborn as sns\n",
    "import matplotlib.pyplot as plt"
   ]
  },
  {
   "cell_type": "markdown",
   "source": [
    "## 1. Data Preparation"
   ],
   "metadata": {
    "collapsed": false
   },
   "id": "d3704e07cfbd9c5e"
  },
  {
   "cell_type": "markdown",
   "source": [
    "### 1.1. Preprocessing Functions\n",
    "We define a set of functions to preprocess the data, using the same functions as in original [PyThaiNLP kaggle implementation.](https://github.com/PyThaiNLP/wisesight-sentiment/blob/master/kaggle-competition/competition.ipynb)\n",
    "\n",
    "- Replace URLs with 'xxurl'\n",
    "- Replace repeating characters with a condensed notation\n",
    "- Replace emojis with 'xxemoji'"
   ],
   "metadata": {
    "collapsed": false
   },
   "id": "838e1386ea811a0e"
  },
  {
   "cell_type": "code",
   "execution_count": 19,
   "outputs": [],
   "source": [
    "# Regular expression pattern to match URLs.\n",
    "URL_PATTERN = r\"\"\"(?i)\\b((?:https?:(?:/{1,3}|[a-z0-9%])|[a-z0-9.\\-]+[.](?:com|net|org|edu|gov|mil|aero|asia|biz|cat|coop|info|int|jobs|mobi|museum|name|post|pro|tel|travel|xxx|ac|ad|ae|af|ag|ai|al|am|an|ao|aq|ar|as|at|au|aw|ax|az|ba|bb|bd|be|bf|bg|bh|bi|bj|bm|bn|bo|br|bs|bt|bv|bw|by|bz|ca|cc|cd|cf|cg|ch|ci|ck|cl|cm|cn|co|cr|cs|cu|cv|cx|cy|cz|dd|de|dj|dk|dm|do|dz|ec|ee|eg|eh|er|es|et|eu|fi|fj|fk|fm|fo|fr|ga|gb|gd|ge|gf|gg|gh|gi|gl|gm|gn|gp|gq|gr|gs|gt|gu|gw|gy|hk|hm|hn|hr|ht|hu|id|ie|il|im|in|io|iq|ir|is|it|je|jm|jo|jp|ke|kg|kh|ki|km|kn|kp|kr|kw|ky|kz|la|lb|lc|li|lk|lr|ls|lt|lu|lv|ly|ma|mc|md|me|mg|mh|mk|ml|mm|mn|mo|mp|mq|mr|ms|mt|mu|mv|mw|mx|my|mz|na|nc|ne|nf|ng|ni|nl|no|np|nr|nu|nz|om|pa|pe|pf|pg|ph|pk|pl|pm|pn|pr|ps|pt|pw|py|qa|re|ro|rs|ru|rw|sa|sb|sc|sd|se|sg|sh|si|sj|Ja|sk|sl|sm|sn|so|sr|ss|st|su|sv|sx|sy|sz|tc|td|tf|tg|th|tj|tk|tl|tm|tn|to|tp|tr|tt|tv|tw|tz|ua|ug|uk|us|uy|uz|va|vc|ve|vg|vi|vn|vu|wf|ws|ye|yt|yu|za|zm|zw)/)(?:[^\\s()<>{}\\[\\]]+|\\([^\\s()]*?\\([^\\s()]+\\)[^\\s()]*?\\)|\\([^\\s]+?\\))+(?:\\([^\\s()]*?\\([^\\s()]+\\)[^\\s()]*?\\)|\\([^\\s]+?\\)|[^\\s`!()\\[\\]{};:'\".,<>?«»“”‘’])|(?:(?<!@)[a-z0-9]+(?:[.\\-][a-z0-9]+)*[.](?:com|net|org|edu|gov|mil|aero|asia|biz|cat|coop|info|int|jobs|mobi|museum|name|post|pro|tel|travel|xxx|ac|ad|ae|af|ag|ai|al|am|an|ao|aq|ar|as|at|au|aw|ax|az|ba|bb|bd|be|bf|bg|bh|bi|bj|bm|bn|bo|br|bs|bt|bv|bw|by|bz|ca|cc|cd|cf|cg|ch|ci|ck|cl|cm|cn|co|cr|cs|cu|cv|cx|cy|cz|dd|de|dj|dk|dm|do|dz|ec|ee|eg|eh|er|es|et|eu|fi|fj|fk|fm|fo|fr|ga|gb|gd|ge|gf|gg|gh|gi|gl|gm|gn|gp|gq|gr|gs|gt|gu|gw|gy|hk|hm|hn|hr|ht|hu|id|ie|il|im|in|io|iq|ir|is|it|je|jm|jo|jp|ke|kg|kh|ki|km|kn|kp|kr|kw|ky|kz|la|lb|lc|li|lk|lr|ls|lt|lu|lv|ly|ma|mc|md|me|mg|mh|mk|ml|mm|mn|mo|mp|mq|mr|ms|mt|mu|mv|mw|mx|my|mz|na|nc|ne|nf|ng|ni|nl|no|np|nr|nu|nz|om|pa|pe|pf|pg|ph|pk|pl|pm|pn|pr|ps|pt|pw|py|qa|re|ro|rs|ru|rw|sa|sb|sc|sd|se|sg|sh|si|sj|Ja|sk|sl|sm|sn|so|sr|ss|st|su|sv|sx|sy|sz|tc|td|tf|tg|th|tj|tk|tl|tm|tn|to|tp|tr|tt|tv|tw|tz|ua|ug|uk|us|uy|uz|va|vc|ve|vg|vi|vn|vu|wf|ws|ye|yt|yu|za|zm|zw)\\b/?(?!@)))\"\"\"\n",
    "\n",
    "def replace_url(text: str) -> str:\n",
    "\t\"\"\"\n",
    "    This function replaces all URLs in the given text with the string 'xxurl'.\n",
    "\n",
    "    Parameters:\n",
    "    ----------\n",
    "    text : str\n",
    "        The text in which URLs need to be replaced.\n",
    "        \n",
    "    Returns:\n",
    "    -------\n",
    "    text : str\n",
    "        The modified text with URLs replaced with 'xxurl'.\n",
    "\n",
    "    \"\"\"\n",
    "\treturn re.sub(URL_PATTERN, 'xxurl', text)\n",
    "\n",
    "\n",
    "def replace_repetitions(text: str) -> str:\n",
    "\n",
    "\t\"\"\"\n",
    "    This function identifies repeating characters in the provided text\n",
    "    and replaces them with a condensed notation.\n",
    "    \n",
    "    Condensed notation is the repeating character followed by a string 'xxrep'.\n",
    "\n",
    "    Nested function _replace is used in substitution, it takes a regex match object\n",
    "    and returns condensed notation for the matched repeating characters.\n",
    "\n",
    "    Parameters:\n",
    "    ----------\n",
    "    text : str\n",
    "        The text in which repetitions need to be replaced.\n",
    "        \n",
    "    Returns:\n",
    "    -------\n",
    "    text : str\n",
    "        The modified text with repeating characters replaced in condensed form.\n",
    "    \"\"\"\n",
    "\n",
    "\tdef _replace(match):\n",
    "\t\tcharacter, repetitions = match.groups()\n",
    "\t\treturn f'{character}xxrep'\n",
    "\n",
    "\tpattern = re.compile(r'(\\S)(\\1{2,})')\n",
    "\treturn pattern.sub(_replace, text)\n",
    "\n",
    "def ungroup_emoji(toks: list) -> list:\n",
    "    \"\"\"\n",
    "    This function ungroups emojis in the given tokenized text.\n",
    "    If all characters in a token are emojis, the function \n",
    "    separates them into individual tokens.\n",
    "    Otherwise, the token is appended as it is.\n",
    "    \n",
    "    Parameters:\n",
    "    ----------\n",
    "    toks : list\n",
    "        The tokenized text to be ungrouped.\n",
    "        \n",
    "    Returns:\n",
    "    -------\n",
    "    result : list\n",
    "        The modified tokenized text with emojis ungrouped.\n",
    "\n",
    "    \"\"\"\n",
    "    result = []\n",
    "    for tok in toks:\n",
    "        if emoji.emoji_count(tok) == len(tok):\n",
    "            result.extend(list(tok))\n",
    "        else:\n",
    "            result.append(tok)\n",
    "    return result\n",
    "\n",
    "def process_text(text: str) -> list:\n",
    "    \"\"\"\n",
    "    This function processes and tokenizes a given text.\n",
    "\n",
    "    The text processing includes the steps:\n",
    "    1. Lower casing the characters\n",
    "    2. Stripping the extra spaces\n",
    "    3. Replacing URLs\n",
    "    4. Replacing repeated characters\n",
    "\n",
    "    The text is then tokenized and post-processing is done \n",
    "    which includes ungrouping of grouped emojis.\n",
    "\n",
    "    Parameters:\n",
    "    ----------\n",
    "    text : str\n",
    "        The text that needs to be processed and tokenized.\n",
    "\n",
    "    Returns:\n",
    "    -------\n",
    "    processed_text : list\n",
    "        The processed and tokenized text in the form of a list of words.\n",
    "\n",
    "    \"\"\"\n",
    "    # Apply pre-processing rules\n",
    "    processed_text = text.lower().strip()\n",
    "    processed_text = replace_url(processed_text)\n",
    "    processed_text = replace_repetitions(processed_text)\n",
    "    processed_text = re.sub(r\"[\\[\\]]\", \"\", processed_text)\n",
    "\n",
    "    # Tokenize\n",
    "    processed_text = [word for word in word_tokenize(processed_text)\n",
    "                      if word and not re.search(pattern=r\"\\s+\", string=word)]\n",
    "\n",
    "    \n",
    "    # Apply post-processing rules\n",
    "    processed_text = ungroup_emoji(processed_text)\n",
    "    return processed_text\n",
    "\n",
    "def combine_data_label(data_url: str, label_url: str) -> pd.DataFrame:\n",
    "    \"\"\"\n",
    "    This function combines two data resources: \n",
    "    one contains the data and the other contains the labels. \n",
    "    Eventually, it processes the text data and returns a \n",
    "    combined DataFrame.\n",
    "    \n",
    "    Parameters:\n",
    "    data_url (str): URL of the text data resource as a CSV.\n",
    "    label_url (str): URL of the labels resource as a CSV.\n",
    "    \n",
    "    Returns:\n",
    "    pd.DataFrame: A combined DataFrame with processed text data \n",
    "    and appended labels.\n",
    "    \"\"\"\n",
    "\n",
    "    data = pd.read_csv(data_url, header=None, encoding=\"utf-8\", sep=\"\\t\")\n",
    "    label = pd.read_csv(label_url, header=None, encoding=\"utf-8\", sep=\"\\t\")\n",
    "    data['intent'] = label\n",
    "    data['text'] = data[0].map(lambda x: ' '.join(process_text(x)))\n",
    "    data.drop(0, axis=1, inplace=True)\n",
    "    return data"
   ],
   "metadata": {
    "collapsed": false,
    "ExecuteTime": {
     "end_time": "2023-07-28T16:31:51.743304700Z",
     "start_time": "2023-07-28T16:31:51.710085700Z"
    }
   },
   "id": "ed49171e8506a62a"
  },
  {
   "cell_type": "markdown",
   "source": [
    "## 1.2 Load and process dataset"
   ],
   "metadata": {
    "collapsed": false
   },
   "id": "8903f1f27c866584"
  },
  {
   "cell_type": "code",
   "execution_count": 41,
   "outputs": [],
   "source": [
    "train_data = \"https://raw.githubusercontent.com/PyThaiNLP/wisesight-sentiment/master/kaggle-competition/train.txt\"\n",
    "train_label = \"https://raw.githubusercontent.com/PyThaiNLP/wisesight-sentiment/master/kaggle-competition/train_label.txt\"\n",
    "\n",
    "test_data = \"https://raw.githubusercontent.com/PyThaiNLP/wisesight-sentiment/master/kaggle-competition/test.txt\"\n",
    "test_label = \"https://raw.githubusercontent.com/PyThaiNLP/wisesight-sentiment/master/kaggle-competition/test_label.txt\""
   ],
   "metadata": {
    "collapsed": false,
    "ExecuteTime": {
     "end_time": "2023-07-28T16:38:32.335611600Z",
     "start_time": "2023-07-28T16:38:32.316709500Z"
    }
   },
   "id": "5a995003923361e7"
  },
  {
   "cell_type": "code",
   "execution_count": 42,
   "outputs": [
    {
     "data": {
      "text/plain": "      intent                                               text\n7282     neu                                       ป๋าxxrepจ๋าา\n12358    neg  ไม่เคยแดกแล้วอ้วกขนาดนี้เลยโว้ยxxrep สเมอนอฟมิ...\n19261    neu  ภาพแอบถ่ายล่าสุด all new nissan teana ( altima...\n5310     neg  แต่ของetudeแบบ ติดตัวอย่างมากแค่1-2ชม.เองอะ เห้อม\n9647     pos                                  บีหนึ่งเรียกบีสอง",
      "text/html": "<div>\n<style scoped>\n    .dataframe tbody tr th:only-of-type {\n        vertical-align: middle;\n    }\n\n    .dataframe tbody tr th {\n        vertical-align: top;\n    }\n\n    .dataframe thead th {\n        text-align: right;\n    }\n</style>\n<table border=\"1\" class=\"dataframe\">\n  <thead>\n    <tr style=\"text-align: right;\">\n      <th></th>\n      <th>intent</th>\n      <th>text</th>\n    </tr>\n  </thead>\n  <tbody>\n    <tr>\n      <th>7282</th>\n      <td>neu</td>\n      <td>ป๋าxxrepจ๋าา</td>\n    </tr>\n    <tr>\n      <th>12358</th>\n      <td>neg</td>\n      <td>ไม่เคยแดกแล้วอ้วกขนาดนี้เลยโว้ยxxrep สเมอนอฟมิ...</td>\n    </tr>\n    <tr>\n      <th>19261</th>\n      <td>neu</td>\n      <td>ภาพแอบถ่ายล่าสุด all new nissan teana ( altima...</td>\n    </tr>\n    <tr>\n      <th>5310</th>\n      <td>neg</td>\n      <td>แต่ของetudeแบบ ติดตัวอย่างมากแค่1-2ชม.เองอะ เห้อม</td>\n    </tr>\n    <tr>\n      <th>9647</th>\n      <td>pos</td>\n      <td>บีหนึ่งเรียกบีสอง</td>\n    </tr>\n  </tbody>\n</table>\n</div>"
     },
     "execution_count": 42,
     "metadata": {},
     "output_type": "execute_result"
    }
   ],
   "source": [
    "df_train = combine_data_label(train_data, train_label)\n",
    "df_test = combine_data_label(test_data, test_label)\n",
    "df_train.sample(5)"
   ],
   "metadata": {
    "collapsed": false,
    "ExecuteTime": {
     "end_time": "2023-07-28T16:38:42.129384800Z",
     "start_time": "2023-07-28T16:38:32.947568Z"
    }
   },
   "id": "50df3969532eae3c"
  },
  {
   "cell_type": "markdown",
   "id": "502672d8-2a4c-4504-ac47-684962fa7bc2",
   "metadata": {},
   "source": [
    "### 1.3 Create a dictionary of labels"
   ]
  },
  {
   "cell_type": "code",
   "execution_count": 43,
   "id": "fe2f6e18-b3d5-4333-93aa-782a287d0350",
   "metadata": {
    "ExecuteTime": {
     "end_time": "2023-07-28T16:38:42.143461200Z",
     "start_time": "2023-07-28T16:38:42.125817800Z"
    }
   },
   "outputs": [
    {
     "data": {
      "text/plain": "{'pos': 0, 'neg': 1, 'neu': 2, 'q': 3}"
     },
     "execution_count": 43,
     "metadata": {},
     "output_type": "execute_result"
    }
   ],
   "source": [
    "uniq = list(set(df_train[\"intent\"].values))\n",
    "labels = {j:i for i,j in zip(range(len(uniq)), uniq)}\n",
    "labels"
   ]
  },
  {
   "cell_type": "code",
   "execution_count": 44,
   "id": "5b9bf7a6-cc26-4d9f-a2c8-ea1d736b7997",
   "metadata": {
    "ExecuteTime": {
     "end_time": "2023-07-28T16:38:42.186536Z",
     "start_time": "2023-07-28T16:38:42.141891300Z"
    }
   },
   "outputs": [],
   "source": [
    "df_train[\"label\"] = df_train[\"intent\"].apply(lambda x: labels[x])\n",
    "df_test[\"label\"] = df_test[\"intent\"].apply(lambda x: labels[x])"
   ]
  },
  {
   "cell_type": "markdown",
   "id": "5978af4b-20e2-4031-8c7f-3c2bbd6eb906",
   "metadata": {},
   "source": [
    "## G-ZIP Original Paper Implementation"
   ]
  },
  {
   "cell_type": "code",
   "execution_count": 45,
   "id": "ce436c63-2eea-46a2-95ca-cfaab0acf348",
   "metadata": {
    "ExecuteTime": {
     "end_time": "2023-07-28T19:27:14.811938Z",
     "start_time": "2023-07-28T16:39:03.833189500Z"
    }
   },
   "outputs": [
    {
     "name": "stderr",
     "output_type": "stream",
     "text": [
      "100%|██████████| 2674/2674 [2:48:10<00:00,  3.77s/it]  "
     ]
    },
    {
     "name": "stdout",
     "output_type": "stream",
     "text": [
      "Accuracy: 0.5422587883320867\n"
     ]
    },
    {
     "name": "stderr",
     "output_type": "stream",
     "text": [
      "\n"
     ]
    }
   ],
   "source": [
    "k = 2\n",
    "predicted_classes = []\n",
    "\n",
    "for row_test in tqdm(df_test.iterrows(), total=df_test.shape[0]):\n",
    "    test_text = row_test[1][\"text\"]\n",
    "    test_label = row_test[1][\"label\"]\n",
    "    c_test_text = len(gzip.compress(test_text.encode()))\n",
    "    distance_from_test_instance = []\n",
    "    \n",
    "    for row_train in df_train.iterrows():\n",
    "        train_text = row_train[1][\"text\"]\n",
    "        train_label = row_train[1][\"label\"]\n",
    "        c_train_text = len(gzip.compress(train_text.encode()))\n",
    "        train_plus_test = \" \".join([test_text, train_text])\n",
    "        c_train_plus_test = len(gzip.compress(train_plus_test.encode()))\n",
    "        \n",
    "        ncd = ((c_train_plus_test - min(c_train_text, c_test_text))\n",
    "                / max(c_test_text, c_train_text))\n",
    "        distance_from_test_instance.append(ncd)\n",
    "        \n",
    "    sorted_idx = np.argsort(np.array(distance_from_test_instance))\n",
    "    top_k_class = df_train.iloc[sorted_idx[:k]][\"label\"].values\n",
    "    predicted_class = np.argmax(np.bincount(top_k_class))\n",
    "    predicted_classes.append(predicted_class)\n",
    "     \n",
    "print(\"Accuracy:\", np.mean(np.array(predicted_classes) == df_test[\"label\"].values))"
   ]
  },
  {
   "cell_type": "code",
   "execution_count": 46,
   "outputs": [
    {
     "data": {
      "text/plain": "<Figure size 1200x1000 with 2 Axes>",
      "image/png": "[encoded data removed]"
     },
     "metadata": {},
     "output_type": "display_data"
    }
   ],
   "source": [
    "cm = confusion_matrix(df_test[\"label\"].values, np.array(predicted_classes))\n",
    "# plot with seaborn\n",
    "plt.figure(figsize=(12, 10))\n",
    "sns.heatmap(cm, annot=True, fmt=\"d\", xticklabels=uniq, yticklabels=uniq)\n",
    "plt.ylabel(\"Actual\")\n",
    "plt.xlabel(\"Predicted\")\n",
    "plt.show()\n"
   ],
   "metadata": {
    "collapsed": false,
    "ExecuteTime": {
     "end_time": "2023-07-28T19:27:15.075189800Z",
     "start_time": "2023-07-28T19:27:14.775206600Z"
    }
   },
   "id": "2a8acbc97cfe1273"
  },
  {
   "cell_type": "markdown",
   "id": "98eecfd5-0eaf-4274-b48c-7f9c27b0d0f4",
   "metadata": {},
   "source": [
    "## G-ZIP With Tie-Breaking Fix"
   ]
  },
  {
   "cell_type": "code",
   "execution_count": 47,
   "id": "fa2bee8b-0ac4-42f4-95d2-5abd1ce6cebe",
   "metadata": {
    "ExecuteTime": {
     "end_time": "2023-07-28T22:11:31.543515800Z",
     "start_time": "2023-07-28T19:27:15.083867300Z"
    }
   },
   "outputs": [
    {
     "name": "stderr",
     "output_type": "stream",
     "text": [
      "100%|██████████| 2674/2674 [2:44:16<00:00,  3.69s/it]  "
     ]
    },
    {
     "name": "stdout",
     "output_type": "stream",
     "text": [
      "Accuracy: 0.5912490650710546\n"
     ]
    },
    {
     "name": "stderr",
     "output_type": "stream",
     "text": [
      "\n"
     ]
    }
   ],
   "source": [
    "k = 2\n",
    "predicted_classes = []\n",
    "\n",
    "for row_test in tqdm(df_test.iterrows(), total=df_test.shape[0]):\n",
    "    test_text = row_test[1][\"text\"]\n",
    "    test_label = row_test[1][\"label\"]\n",
    "    c_test_text = len(gzip.compress(test_text.encode()))\n",
    "    distance_from_test_instance = []\n",
    "    \n",
    "    for row_train in df_train.iterrows():\n",
    "        train_text = row_train[1][\"text\"]\n",
    "        train_label = row_train[1][\"label\"]\n",
    "        c_train_text = len(gzip.compress(train_text.encode()))\n",
    "        \n",
    "        train_plus_test = \" \".join([test_text, train_text])\n",
    "        c_train_plus_test = len(gzip.compress(train_plus_test.encode()))\n",
    "        \n",
    "        ncd = ( (c_train_plus_test - min(c_train_text, c_test_text))\n",
    "                / max(c_test_text, c_train_text) )\n",
    "        distance_from_test_instance.append(ncd)\n",
    "        \n",
    "    sorted_idx = np.argsort(np.array(distance_from_test_instance))\n",
    "    top_k_class = np.array(df_train[\"label\"])[sorted_idx[:k]]\n",
    "    predicted_class = Counter(top_k_class).most_common()[0][0]\n",
    "    predicted_classes.append(predicted_class)\n",
    "        \n",
    "print(\"Accuracy:\", np.mean(np.array(predicted_classes) == df_test[\"label\"].values))"
   ]
  },
  {
   "cell_type": "code",
   "execution_count": 48,
   "outputs": [
    {
     "data": {
      "text/plain": "<Figure size 1200x1000 with 2 Axes>",
      "image/png": "[encoded data removed]"
     },
     "metadata": {},
     "output_type": "display_data"
    }
   ],
   "source": [
    "cm = confusion_matrix(df_test[\"label\"].values, np.array(predicted_classes))\n",
    "plt.figure(figsize=(12, 10))\n",
    "sns.heatmap(cm, annot=True, fmt=\"d\", xticklabels=uniq, yticklabels=uniq)\n",
    "plt.ylabel(\"Actual\")\n",
    "plt.xlabel(\"Predicted\")\n",
    "plt.show()"
   ],
   "metadata": {
    "collapsed": false,
    "ExecuteTime": {
     "end_time": "2023-07-28T22:11:31.742436200Z",
     "start_time": "2023-07-28T22:11:31.542510900Z"
    }
   },
   "id": "fea6b46d371aed15"
  },
  {
   "cell_type": "code",
   "execution_count": 52,
   "outputs": [
    {
     "data": {
      "text/plain": "                                                   text intent predicted\n1582                                              หิวนะ    pos       neu\n2126  ให้โลกรู้ไว้แท็กซี่ สีเหลือง ที่ไม่ปฏิเสธลูกค้...    pos       neu\n818                                         วันไหนดีคับ    pos       pos\n2369                                             สุดยอด    pos       neu\n658   สำนักงานสาธารณสุขจังหวัดสระแก้ว ร่วมกับ โรงพยา...    neu       neu\n1158                         ฮอตพอตที จะกินโออิชิเหรอที    neu       neg\n90                  อิห่า แมคไม่คุ้มเลย เคฟซีน่าแดกกว่า    neg       neg\n1165  มีปล่อยอิสระบ้าง แต่ส่วนมากไม่ถึงชั่วโมง เป็นเ...    neu       neg\n1148                  วันนี้ที่ได้สีไม่ใช่แบบนี้อ่ะก้อน    neg       neu\n1126  # ผ้าอนามัยโซฟี บางลงไปเยอะมาก คือเอามาเปรียบเ...    neg       neg",
      "text/html": "<div>\n<style scoped>\n    .dataframe tbody tr th:only-of-type {\n        vertical-align: middle;\n    }\n\n    .dataframe tbody tr th {\n        vertical-align: top;\n    }\n\n    .dataframe thead th {\n        text-align: right;\n    }\n</style>\n<table border=\"1\" class=\"dataframe\">\n  <thead>\n    <tr style=\"text-align: right;\">\n      <th></th>\n      <th>text</th>\n      <th>intent</th>\n      <th>predicted</th>\n    </tr>\n  </thead>\n  <tbody>\n    <tr>\n      <th>1582</th>\n      <td>หิวนะ</td>\n      <td>pos</td>\n      <td>neu</td>\n    </tr>\n    <tr>\n      <th>2126</th>\n      <td>ให้โลกรู้ไว้แท็กซี่ สีเหลือง ที่ไม่ปฏิเสธลูกค้...</td>\n      <td>pos</td>\n      <td>neu</td>\n    </tr>\n    <tr>\n      <th>818</th>\n      <td>วันไหนดีคับ</td>\n      <td>pos</td>\n      <td>pos</td>\n    </tr>\n    <tr>\n      <th>2369</th>\n      <td>สุดยอด</td>\n      <td>pos</td>\n      <td>neu</td>\n    </tr>\n    <tr>\n      <th>658</th>\n      <td>สำนักงานสาธารณสุขจังหวัดสระแก้ว ร่วมกับ โรงพยา...</td>\n      <td>neu</td>\n      <td>neu</td>\n    </tr>\n    <tr>\n      <th>1158</th>\n      <td>ฮอตพอตที จะกินโออิชิเหรอที</td>\n      <td>neu</td>\n      <td>neg</td>\n    </tr>\n    <tr>\n      <th>90</th>\n      <td>อิห่า แมคไม่คุ้มเลย เคฟซีน่าแดกกว่า</td>\n      <td>neg</td>\n      <td>neg</td>\n    </tr>\n    <tr>\n      <th>1165</th>\n      <td>มีปล่อยอิสระบ้าง แต่ส่วนมากไม่ถึงชั่วโมง เป็นเ...</td>\n      <td>neu</td>\n      <td>neg</td>\n    </tr>\n    <tr>\n      <th>1148</th>\n      <td>วันนี้ที่ได้สีไม่ใช่แบบนี้อ่ะก้อน</td>\n      <td>neg</td>\n      <td>neu</td>\n    </tr>\n    <tr>\n      <th>1126</th>\n      <td># ผ้าอนามัยโซฟี บางลงไปเยอะมาก คือเอามาเปรียบเ...</td>\n      <td>neg</td>\n      <td>neg</td>\n    </tr>\n  </tbody>\n</table>\n</div>"
     },
     "execution_count": 52,
     "metadata": {},
     "output_type": "execute_result"
    }
   ],
   "source": [
    "# sample of unmatched predictions\n",
    "df_test[\"predicted\"] = predicted_classes\n",
    "df_test[\"predicted\"] = df_test[\"predicted\"].apply(lambda x: uniq[x])\n",
    "df_test[df_test[\"label\"] != df_test[\"predicted\"]][['text', 'intent', 'predicted']].sample(10)"
   ],
   "metadata": {
    "collapsed": false,
    "ExecuteTime": {
     "end_time": "2023-07-29T07:42:24.160542400Z",
     "start_time": "2023-07-29T07:42:24.117905400Z"
    }
   },
   "id": "436e11246bb2ba57"
  }
 ],
 "metadata": {
  "kernelspec": {
   "display_name": "Python 3 (ipykernel)",
   "language": "python",
   "name": "python3"
  },
  "language_info": {
   "codemirror_mode": {
    "name": "ipython",
    "version": 3
   },
   "file_extension": ".py",
   "mimetype": "text/x-python",
   "name": "python",
   "nbconvert_exporter": "python",
   "pygments_lexer": "ipython3",
   "version": "3.10.6"
  }
 },
 "nbformat": 4,
 "nbformat_minor": 5
}
